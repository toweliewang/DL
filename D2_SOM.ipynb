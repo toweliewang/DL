{
  "nbformat": 4,
  "nbformat_minor": 0,
  "metadata": {
    "kernelspec": {
      "display_name": "Python 3",
      "language": "python",
      "name": "python3"
    },
    "language_info": {
      "codemirror_mode": {
        "name": "ipython",
        "version": 3
      },
      "file_extension": ".py",
      "mimetype": "text/x-python",
      "name": "python",
      "nbconvert_exporter": "python",
      "pygments_lexer": "ipython3",
      "version": "3.7.3"
    },
    "colab": {
      "name": "D2_SOM.ipynb",
      "version": "0.3.2",
      "provenance": [],
      "include_colab_link": true
    }
  },
  "cells": [
    {
      "cell_type": "markdown",
      "metadata": {
        "id": "view-in-github",
        "colab_type": "text"
      },
      "source": [
        "<a href=\"https://colab.research.google.com/github/toweliewang/DL/blob/master/D2_SOM.ipynb\" target=\"_parent\"><img src=\"https://colab.research.google.com/assets/colab-badge.svg\" alt=\"Open In Colab\"/></a>"
      ]
    },
    {
      "cell_type": "markdown",
      "metadata": {
        "id": "wshvjd7FLc8j",
        "colab_type": "text"
      },
      "source": [
        "https://github.com/itdxer/neupy/blob/master/examples/competitive/sofm_digits.py"
      ]
    },
    {
      "cell_type": "code",
      "metadata": {
        "id": "fexq8XQaLc8l",
        "colab_type": "code",
        "colab": {}
      },
      "source": [
        ""
      ],
      "execution_count": 0,
      "outputs": []
    },
    {
      "cell_type": "code",
      "metadata": {
        "id": "b6YqJ48dLc8o",
        "colab_type": "code",
        "colab": {}
      },
      "source": [
        "from __future__ import division\n",
        "\n",
        "import numpy as np\n",
        "import matplotlib.pyplot as plt\n",
        "import matplotlib.gridspec as gridspec\n",
        "from sklearn import datasets\n",
        "from neupy import algorithms, utils\n",
        "%matplotlib inline\n",
        "\n",
        "utils.reproducible()"
      ],
      "execution_count": 0,
      "outputs": []
    },
    {
      "cell_type": "code",
      "metadata": {
        "id": "FJR79IpCLc8q",
        "colab_type": "code",
        "colab": {}
      },
      "source": [
        "GRID_HEIGHT = 40\n",
        "GRID_WIDTH = 40\n",
        "\n",
        "digits = datasets.load_digits()\n",
        "data = digits.data"
      ],
      "execution_count": 0,
      "outputs": []
    },
    {
      "cell_type": "code",
      "metadata": {
        "id": "aS_aeUzxLc8t",
        "colab_type": "code",
        "colab": {
          "base_uri": "https://localhost:8080/",
          "height": 35
        },
        "outputId": "a0026928-ef26-4c9b-8161-744f9bb825ad"
      },
      "source": [
        "data.shape"
      ],
      "execution_count": 3,
      "outputs": [
        {
          "output_type": "execute_result",
          "data": {
            "text/plain": [
              "(1797, 64)"
            ]
          },
          "metadata": {
            "tags": []
          },
          "execution_count": 3
        }
      ]
    },
    {
      "cell_type": "code",
      "metadata": {
        "id": "Kh0XiFEgLc8v",
        "colab_type": "code",
        "colab": {
          "base_uri": "https://localhost:8080/",
          "height": 107
        },
        "outputId": "4d5bf140-7d3e-47a0-e855-e19a41e550b4"
      },
      "source": [
        "data[0]"
      ],
      "execution_count": 4,
      "outputs": [
        {
          "output_type": "execute_result",
          "data": {
            "text/plain": [
              "array([ 0.,  0.,  5., 13.,  9.,  1.,  0.,  0.,  0.,  0., 13., 15., 10.,\n",
              "       15.,  5.,  0.,  0.,  3., 15.,  2.,  0., 11.,  8.,  0.,  0.,  4.,\n",
              "       12.,  0.,  0.,  8.,  8.,  0.,  0.,  5.,  8.,  0.,  0.,  9.,  8.,\n",
              "        0.,  0.,  4., 11.,  0.,  1., 12.,  7.,  0.,  0.,  2., 14.,  5.,\n",
              "       10., 12.,  0.,  0.,  0.,  0.,  6., 13., 10.,  0.,  0.,  0.])"
            ]
          },
          "metadata": {
            "tags": []
          },
          "execution_count": 4
        }
      ]
    },
    {
      "cell_type": "code",
      "metadata": {
        "id": "RCFcDwngLc8x",
        "colab_type": "code",
        "colab": {
          "base_uri": "https://localhost:8080/",
          "height": 287
        },
        "outputId": "28eb101e-e895-44fe-cad3-d5b2ad5e41ff"
      },
      "source": [
        "plt.imshow(data[51].reshape((8, 8)), cmap='Greys')"
      ],
      "execution_count": 5,
      "outputs": [
        {
          "output_type": "execute_result",
          "data": {
            "text/plain": [
              "<matplotlib.image.AxesImage at 0x7fd43a070320>"
            ]
          },
          "metadata": {
            "tags": []
          },
          "execution_count": 5
        },
        {
          "output_type": "display_data",
          "data": {
            "image/png": "[encoded data removed]",
            "text/plain": [
              "<Figure size 432x288 with 1 Axes>"
            ]
          },
          "metadata": {
            "tags": []
          }
        }
      ]
    },
    {
      "cell_type": "code",
      "metadata": {
        "id": "z3uxtiudLc80",
        "colab_type": "code",
        "colab": {
          "base_uri": "https://localhost:8080/",
          "height": 1000
        },
        "outputId": "82018a4b-ecf9-4dde-eee6-4612366097d2"
      },
      "source": [
        "sofm = algorithms.SOFM(\n",
        "    n_inputs=64,\n",
        "    features_grid=(GRID_HEIGHT, GRID_WIDTH),\n",
        "\n",
        "    # Learning radius defines area within which we find\n",
        "    # winning neuron neighbours. The higher the value\n",
        "    # the more values will be updated after each iteration.\n",
        "    learning_radius=5,\n",
        "    # Every 20 epochs learning radius will be reduced by 1.\n",
        "    reduce_radius_after=20,\n",
        "\n",
        "    step=0.5,\n",
        "    std=1,\n",
        "\n",
        "    shuffle_data=True,\n",
        "    verbose=True,\n",
        ")\n",
        "\n",
        "sofm.train(data, epochs=100)\n",
        "clusters = sofm.predict(data).argmax(axis=1)"
      ],
      "execution_count": 6,
      "outputs": [
        {
          "output_type": "stream",
          "text": [
            "\n",
            "Main information\n",
            "\n",
            "[ALGORITHM] SOFM\n",
            "\r\n",
            "[OPTION] distance = ['euclid', 'neg_euclid_distance']\n",
            "[OPTION] features_grid = [40, 40]\n",
            "[OPTION] grid_type = ['rectangle', 'find_neighbours_on_rect_grid', 'find_step_scaler_on_rect_grid']\n",
            "[OPTION] learning_radius = 5\n",
            "[OPTION] n_inputs = 64\n",
            "[OPTION] n_outputs = None\n",
            "[OPTION] reduce_radius_after = 20\n",
            "[OPTION] reduce_std_after = 100\n",
            "[OPTION] reduce_step_after = 100\n",
            "[OPTION] show_epoch = 1\n",
            "[OPTION] shuffle_data = True\n",
            "[OPTION] signals = None\n",
            "[OPTION] std = 1\n",
            "[OPTION] step = 0.5\n",
            "[OPTION] verbose = True\n",
            "[OPTION] weight = Normal(mean=0, std=0.01)\n",
            "\r\n"
          ],
          "name": "stdout"
        },
        {
          "output_type": "stream",
          "text": [
            "\r                                                                               \r"
          ],
          "name": "stderr"
        },
        {
          "output_type": "stream",
          "text": [
            "#1 : [1 sec] train: 2.421919\n"
          ],
          "name": "stdout"
        },
        {
          "output_type": "stream",
          "text": [
            "\r                                                                               \r"
          ],
          "name": "stderr"
        },
        {
          "output_type": "stream",
          "text": [
            "#2 : [1 sec] train: 2.148798\n"
          ],
          "name": "stdout"
        },
        {
          "output_type": "stream",
          "text": [
            "\r                                                                               \r"
          ],
          "name": "stderr"
        },
        {
          "output_type": "stream",
          "text": [
            "#3 : [1 sec] train: 2.097239\n"
          ],
          "name": "stdout"
        },
        {
          "output_type": "stream",
          "text": [
            "\r                                                                               \r"
          ],
          "name": "stderr"
        },
        {
          "output_type": "stream",
          "text": [
            "#4 : [1 sec] train: 2.085253\n"
          ],
          "name": "stdout"
        },
        {
          "output_type": "stream",
          "text": [
            "\r                                                                               \r"
          ],
          "name": "stderr"
        },
        {
          "output_type": "stream",
          "text": [
            "#5 : [1 sec] train: 2.082984\n"
          ],
          "name": "stdout"
        },
        {
          "output_type": "stream",
          "text": [
            "\r                                                                               \r"
          ],
          "name": "stderr"
        },
        {
          "output_type": "stream",
          "text": [
            "#6 : [1 sec] train: 2.059884\n"
          ],
          "name": "stdout"
        },
        {
          "output_type": "stream",
          "text": [
            "\r                                                                               \r"
          ],
          "name": "stderr"
        },
        {
          "output_type": "stream",
          "text": [
            "#7 : [1 sec] train: 2.070770\n"
          ],
          "name": "stdout"
        },
        {
          "output_type": "stream",
          "text": [
            "\r                                                                               \r"
          ],
          "name": "stderr"
        },
        {
          "output_type": "stream",
          "text": [
            "#8 : [1 sec] train: 2.065354\n"
          ],
          "name": "stdout"
        },
        {
          "output_type": "stream",
          "text": [
            "\r                                                                               \r"
          ],
          "name": "stderr"
        },
        {
          "output_type": "stream",
          "text": [
            "#9 : [1 sec] train: 2.067114\n"
          ],
          "name": "stdout"
        },
        {
          "output_type": "stream",
          "text": [
            "\r                                                                               \r"
          ],
          "name": "stderr"
        },
        {
          "output_type": "stream",
          "text": [
            "#10 : [1 sec] train: 2.061239\n"
          ],
          "name": "stdout"
        },
        {
          "output_type": "stream",
          "text": [
            "\r                                                                               \r"
          ],
          "name": "stderr"
        },
        {
          "output_type": "stream",
          "text": [
            "#11 : [1 sec] train: 2.050616\n"
          ],
          "name": "stdout"
        },
        {
          "output_type": "stream",
          "text": [
            "\r                                                                               \r"
          ],
          "name": "stderr"
        },
        {
          "output_type": "stream",
          "text": [
            "#12 : [1 sec] train: 2.058361\n"
          ],
          "name": "stdout"
        },
        {
          "output_type": "stream",
          "text": [
            "\r                                                                               \r"
          ],
          "name": "stderr"
        },
        {
          "output_type": "stream",
          "text": [
            "#13 : [1 sec] train: 2.045913\n"
          ],
          "name": "stdout"
        },
        {
          "output_type": "stream",
          "text": [
            "\r                                                                               \r"
          ],
          "name": "stderr"
        },
        {
          "output_type": "stream",
          "text": [
            "#14 : [1 sec] train: 2.043559\n"
          ],
          "name": "stdout"
        },
        {
          "output_type": "stream",
          "text": [
            "\r                                                                               \r"
          ],
          "name": "stderr"
        },
        {
          "output_type": "stream",
          "text": [
            "#15 : [1 sec] train: 2.047993\n"
          ],
          "name": "stdout"
        },
        {
          "output_type": "stream",
          "text": [
            "\r                                                                               \r"
          ],
          "name": "stderr"
        },
        {
          "output_type": "stream",
          "text": [
            "#16 : [1 sec] train: 2.052609\n"
          ],
          "name": "stdout"
        },
        {
          "output_type": "stream",
          "text": [
            "\r                                                                               \r"
          ],
          "name": "stderr"
        },
        {
          "output_type": "stream",
          "text": [
            "#17 : [1 sec] train: 2.040919\n"
          ],
          "name": "stdout"
        },
        {
          "output_type": "stream",
          "text": [
            "\r                                                                               \r"
          ],
          "name": "stderr"
        },
        {
          "output_type": "stream",
          "text": [
            "#18 : [1 sec] train: 2.035039\n"
          ],
          "name": "stdout"
        },
        {
          "output_type": "stream",
          "text": [
            "\r                                                                               \r"
          ],
          "name": "stderr"
        },
        {
          "output_type": "stream",
          "text": [
            "#19 : [1 sec] train: 2.045693\n"
          ],
          "name": "stdout"
        },
        {
          "output_type": "stream",
          "text": [
            "\r                                                                               \r"
          ],
          "name": "stderr"
        },
        {
          "output_type": "stream",
          "text": [
            "#20 : [1 sec] train: 1.905370\n"
          ],
          "name": "stdout"
        },
        {
          "output_type": "stream",
          "text": [
            "\r                                                                               \r"
          ],
          "name": "stderr"
        },
        {
          "output_type": "stream",
          "text": [
            "#21 : [1 sec] train: 1.899415\n"
          ],
          "name": "stdout"
        },
        {
          "output_type": "stream",
          "text": [
            "\r                                                                               \r"
          ],
          "name": "stderr"
        },
        {
          "output_type": "stream",
          "text": [
            "#22 : [1 sec] train: 1.900669\n"
          ],
          "name": "stdout"
        },
        {
          "output_type": "stream",
          "text": [
            "\r                                                                               \r"
          ],
          "name": "stderr"
        },
        {
          "output_type": "stream",
          "text": [
            "#23 : [1 sec] train: 1.896967\n"
          ],
          "name": "stdout"
        },
        {
          "output_type": "stream",
          "text": [
            "\r                                                                               \r"
          ],
          "name": "stderr"
        },
        {
          "output_type": "stream",
          "text": [
            "#24 : [1 sec] train: 1.882780\n"
          ],
          "name": "stdout"
        },
        {
          "output_type": "stream",
          "text": [
            "\r                                                                               \r"
          ],
          "name": "stderr"
        },
        {
          "output_type": "stream",
          "text": [
            "#25 : [1 sec] train: 1.891311\n"
          ],
          "name": "stdout"
        },
        {
          "output_type": "stream",
          "text": [
            "\r                                                                               \r"
          ],
          "name": "stderr"
        },
        {
          "output_type": "stream",
          "text": [
            "#26 : [1 sec] train: 1.884189\n"
          ],
          "name": "stdout"
        },
        {
          "output_type": "stream",
          "text": [
            "\r                                                                               \r"
          ],
          "name": "stderr"
        },
        {
          "output_type": "stream",
          "text": [
            "#27 : [1 sec] train: 1.879071\n"
          ],
          "name": "stdout"
        },
        {
          "output_type": "stream",
          "text": [
            "\r                                                                               \r"
          ],
          "name": "stderr"
        },
        {
          "output_type": "stream",
          "text": [
            "#28 : [1 sec] train: 1.883792\n"
          ],
          "name": "stdout"
        },
        {
          "output_type": "stream",
          "text": [
            "\r                                                                               \r"
          ],
          "name": "stderr"
        },
        {
          "output_type": "stream",
          "text": [
            "#29 : [1 sec] train: 1.881719\n"
          ],
          "name": "stdout"
        },
        {
          "output_type": "stream",
          "text": [
            "\r                                                                               \r"
          ],
          "name": "stderr"
        },
        {
          "output_type": "stream",
          "text": [
            "#30 : [1 sec] train: 1.880335\n"
          ],
          "name": "stdout"
        },
        {
          "output_type": "stream",
          "text": [
            "\r                                                                               \r"
          ],
          "name": "stderr"
        },
        {
          "output_type": "stream",
          "text": [
            "#31 : [1 sec] train: 1.880402\n"
          ],
          "name": "stdout"
        },
        {
          "output_type": "stream",
          "text": [
            "\r                                                                               \r"
          ],
          "name": "stderr"
        },
        {
          "output_type": "stream",
          "text": [
            "#32 : [1 sec] train: 1.882312\n"
          ],
          "name": "stdout"
        },
        {
          "output_type": "stream",
          "text": [
            "\r                                                                               \r"
          ],
          "name": "stderr"
        },
        {
          "output_type": "stream",
          "text": [
            "#33 : [1 sec] train: 1.877617\n"
          ],
          "name": "stdout"
        },
        {
          "output_type": "stream",
          "text": [
            "\r                                                                               \r"
          ],
          "name": "stderr"
        },
        {
          "output_type": "stream",
          "text": [
            "#34 : [1 sec] train: 1.881437\n"
          ],
          "name": "stdout"
        },
        {
          "output_type": "stream",
          "text": [
            "\r                                                                               \r"
          ],
          "name": "stderr"
        },
        {
          "output_type": "stream",
          "text": [
            "#35 : [1 sec] train: 1.865803\n"
          ],
          "name": "stdout"
        },
        {
          "output_type": "stream",
          "text": [
            "\r                                                                               \r"
          ],
          "name": "stderr"
        },
        {
          "output_type": "stream",
          "text": [
            "#36 : [1 sec] train: 1.872404\n"
          ],
          "name": "stdout"
        },
        {
          "output_type": "stream",
          "text": [
            "\r                                                                               \r"
          ],
          "name": "stderr"
        },
        {
          "output_type": "stream",
          "text": [
            "#37 : [1 sec] train: 1.855602\n"
          ],
          "name": "stdout"
        },
        {
          "output_type": "stream",
          "text": [
            "\r                                                                               \r"
          ],
          "name": "stderr"
        },
        {
          "output_type": "stream",
          "text": [
            "#38 : [1 sec] train: 1.865701\n"
          ],
          "name": "stdout"
        },
        {
          "output_type": "stream",
          "text": [
            "\r                                                                               \r"
          ],
          "name": "stderr"
        },
        {
          "output_type": "stream",
          "text": [
            "#39 : [1 sec] train: 1.868459\n"
          ],
          "name": "stdout"
        },
        {
          "output_type": "stream",
          "text": [
            "\r                                                                               \r"
          ],
          "name": "stderr"
        },
        {
          "output_type": "stream",
          "text": [
            "#40 : [1 sec] train: 1.730191\n"
          ],
          "name": "stdout"
        },
        {
          "output_type": "stream",
          "text": [
            "\r                                                                               \r"
          ],
          "name": "stderr"
        },
        {
          "output_type": "stream",
          "text": [
            "#41 : [1 sec] train: 1.726304\n"
          ],
          "name": "stdout"
        },
        {
          "output_type": "stream",
          "text": [
            "\r                                                                               \r"
          ],
          "name": "stderr"
        },
        {
          "output_type": "stream",
          "text": [
            "#42 : [1 sec] train: 1.722028\n"
          ],
          "name": "stdout"
        },
        {
          "output_type": "stream",
          "text": [
            "\r                                                                               \r"
          ],
          "name": "stderr"
        },
        {
          "output_type": "stream",
          "text": [
            "#43 : [1 sec] train: 1.722532\n"
          ],
          "name": "stdout"
        },
        {
          "output_type": "stream",
          "text": [
            "\r                                                                               \r"
          ],
          "name": "stderr"
        },
        {
          "output_type": "stream",
          "text": [
            "#44 : [1 sec] train: 1.718585\n"
          ],
          "name": "stdout"
        },
        {
          "output_type": "stream",
          "text": [
            "\r                                                                               \r"
          ],
          "name": "stderr"
        },
        {
          "output_type": "stream",
          "text": [
            "#45 : [1 sec] train: 1.717671\n"
          ],
          "name": "stdout"
        },
        {
          "output_type": "stream",
          "text": [
            "\r                                                                               \r"
          ],
          "name": "stderr"
        },
        {
          "output_type": "stream",
          "text": [
            "#46 : [1 sec] train: 1.710691\n"
          ],
          "name": "stdout"
        },
        {
          "output_type": "stream",
          "text": [
            "\r                                                                               \r"
          ],
          "name": "stderr"
        },
        {
          "output_type": "stream",
          "text": [
            "#47 : [1 sec] train: 1.714256\n"
          ],
          "name": "stdout"
        },
        {
          "output_type": "stream",
          "text": [
            "\r                                                                               \r"
          ],
          "name": "stderr"
        },
        {
          "output_type": "stream",
          "text": [
            "#48 : [1 sec] train: 1.712904\n"
          ],
          "name": "stdout"
        },
        {
          "output_type": "stream",
          "text": [
            "\r                                                                               \r"
          ],
          "name": "stderr"
        },
        {
          "output_type": "stream",
          "text": [
            "#49 : [1 sec] train: 1.708359\n"
          ],
          "name": "stdout"
        },
        {
          "output_type": "stream",
          "text": [
            "\r                                                                               \r"
          ],
          "name": "stderr"
        },
        {
          "output_type": "stream",
          "text": [
            "#50 : [1 sec] train: 1.704105\n"
          ],
          "name": "stdout"
        },
        {
          "output_type": "stream",
          "text": [
            "\r                                                                               \r"
          ],
          "name": "stderr"
        },
        {
          "output_type": "stream",
          "text": [
            "#51 : [1 sec] train: 1.705918\n"
          ],
          "name": "stdout"
        },
        {
          "output_type": "stream",
          "text": [
            "\r                                                                               \r"
          ],
          "name": "stderr"
        },
        {
          "output_type": "stream",
          "text": [
            "#52 : [1 sec] train: 1.703657\n"
          ],
          "name": "stdout"
        },
        {
          "output_type": "stream",
          "text": [
            "\r                                                                               \r"
          ],
          "name": "stderr"
        },
        {
          "output_type": "stream",
          "text": [
            "#53 : [1 sec] train: 1.706233\n"
          ],
          "name": "stdout"
        },
        {
          "output_type": "stream",
          "text": [
            "\r                                                                               \r"
          ],
          "name": "stderr"
        },
        {
          "output_type": "stream",
          "text": [
            "#54 : [1 sec] train: 1.703441\n"
          ],
          "name": "stdout"
        },
        {
          "output_type": "stream",
          "text": [
            "\r                                                                               \r"
          ],
          "name": "stderr"
        },
        {
          "output_type": "stream",
          "text": [
            "#55 : [1 sec] train: 1.707770\n"
          ],
          "name": "stdout"
        },
        {
          "output_type": "stream",
          "text": [
            "\r                                                                               \r"
          ],
          "name": "stderr"
        },
        {
          "output_type": "stream",
          "text": [
            "#56 : [1 sec] train: 1.705442\n"
          ],
          "name": "stdout"
        },
        {
          "output_type": "stream",
          "text": [
            "\r                                                                               \r"
          ],
          "name": "stderr"
        },
        {
          "output_type": "stream",
          "text": [
            "#57 : [1 sec] train: 1.705437\n"
          ],
          "name": "stdout"
        },
        {
          "output_type": "stream",
          "text": [
            "\r                                                                               \r"
          ],
          "name": "stderr"
        },
        {
          "output_type": "stream",
          "text": [
            "#58 : [1 sec] train: 1.707295\n"
          ],
          "name": "stdout"
        },
        {
          "output_type": "stream",
          "text": [
            "\r                                                                               \r"
          ],
          "name": "stderr"
        },
        {
          "output_type": "stream",
          "text": [
            "#59 : [1 sec] train: 1.701726\n"
          ],
          "name": "stdout"
        },
        {
          "output_type": "stream",
          "text": [
            "\r                                                                               \r"
          ],
          "name": "stderr"
        },
        {
          "output_type": "stream",
          "text": [
            "#60 : [1 sec] train: 1.514154\n"
          ],
          "name": "stdout"
        },
        {
          "output_type": "stream",
          "text": [
            "\r                                                                               \r"
          ],
          "name": "stderr"
        },
        {
          "output_type": "stream",
          "text": [
            "#61 : [1 sec] train: 1.506607\n"
          ],
          "name": "stdout"
        },
        {
          "output_type": "stream",
          "text": [
            "\r                                                                               \r"
          ],
          "name": "stderr"
        },
        {
          "output_type": "stream",
          "text": [
            "#62 : [1 sec] train: 1.509722\n"
          ],
          "name": "stdout"
        },
        {
          "output_type": "stream",
          "text": [
            "\r                                                                               \r"
          ],
          "name": "stderr"
        },
        {
          "output_type": "stream",
          "text": [
            "#63 : [1 sec] train: 1.507263\n"
          ],
          "name": "stdout"
        },
        {
          "output_type": "stream",
          "text": [
            "\r                                                                               \r"
          ],
          "name": "stderr"
        },
        {
          "output_type": "stream",
          "text": [
            "#64 : [1 sec] train: 1.507916\n"
          ],
          "name": "stdout"
        },
        {
          "output_type": "stream",
          "text": [
            "\r                                                                               \r"
          ],
          "name": "stderr"
        },
        {
          "output_type": "stream",
          "text": [
            "#65 : [1 sec] train: 1.504989\n"
          ],
          "name": "stdout"
        },
        {
          "output_type": "stream",
          "text": [
            "\r                                                                               \r"
          ],
          "name": "stderr"
        },
        {
          "output_type": "stream",
          "text": [
            "#66 : [1 sec] train: 1.504033\n"
          ],
          "name": "stdout"
        },
        {
          "output_type": "stream",
          "text": [
            "\r                                                                               \r"
          ],
          "name": "stderr"
        },
        {
          "output_type": "stream",
          "text": [
            "#67 : [1 sec] train: 1.500114\n"
          ],
          "name": "stdout"
        },
        {
          "output_type": "stream",
          "text": [
            "\r                                                                               \r"
          ],
          "name": "stderr"
        },
        {
          "output_type": "stream",
          "text": [
            "#68 : [1 sec] train: 1.498317\n"
          ],
          "name": "stdout"
        },
        {
          "output_type": "stream",
          "text": [
            "\r                                                                               \r"
          ],
          "name": "stderr"
        },
        {
          "output_type": "stream",
          "text": [
            "#69 : [1 sec] train: 1.501532\n"
          ],
          "name": "stdout"
        },
        {
          "output_type": "stream",
          "text": [
            "\r                                                                               \r"
          ],
          "name": "stderr"
        },
        {
          "output_type": "stream",
          "text": [
            "#70 : [1 sec] train: 1.502702\n"
          ],
          "name": "stdout"
        },
        {
          "output_type": "stream",
          "text": [
            "\r                                                                               \r"
          ],
          "name": "stderr"
        },
        {
          "output_type": "stream",
          "text": [
            "#71 : [1 sec] train: 1.498716\n"
          ],
          "name": "stdout"
        },
        {
          "output_type": "stream",
          "text": [
            "\r                                                                               \r"
          ],
          "name": "stderr"
        },
        {
          "output_type": "stream",
          "text": [
            "#72 : [1 sec] train: 1.497286\n"
          ],
          "name": "stdout"
        },
        {
          "output_type": "stream",
          "text": [
            "\r                                                                               \r"
          ],
          "name": "stderr"
        },
        {
          "output_type": "stream",
          "text": [
            "#73 : [1 sec] train: 1.496793\n"
          ],
          "name": "stdout"
        },
        {
          "output_type": "stream",
          "text": [
            "\r                                                                               \r"
          ],
          "name": "stderr"
        },
        {
          "output_type": "stream",
          "text": [
            "#74 : [1 sec] train: 1.498559\n"
          ],
          "name": "stdout"
        },
        {
          "output_type": "stream",
          "text": [
            "\r                                                                               \r"
          ],
          "name": "stderr"
        },
        {
          "output_type": "stream",
          "text": [
            "#75 : [1 sec] train: 1.497040\n"
          ],
          "name": "stdout"
        },
        {
          "output_type": "stream",
          "text": [
            "\r                                                                               \r"
          ],
          "name": "stderr"
        },
        {
          "output_type": "stream",
          "text": [
            "#76 : [1 sec] train: 1.500158\n"
          ],
          "name": "stdout"
        },
        {
          "output_type": "stream",
          "text": [
            "\r                                                                               \r"
          ],
          "name": "stderr"
        },
        {
          "output_type": "stream",
          "text": [
            "#77 : [1 sec] train: 1.497116\n"
          ],
          "name": "stdout"
        },
        {
          "output_type": "stream",
          "text": [
            "\r                                                                               \r"
          ],
          "name": "stderr"
        },
        {
          "output_type": "stream",
          "text": [
            "#78 : [1 sec] train: 1.495015\n"
          ],
          "name": "stdout"
        },
        {
          "output_type": "stream",
          "text": [
            "\r                                                                               \r"
          ],
          "name": "stderr"
        },
        {
          "output_type": "stream",
          "text": [
            "#79 : [1 sec] train: 1.492936\n"
          ],
          "name": "stdout"
        },
        {
          "output_type": "stream",
          "text": [
            "\r                                                                               \r"
          ],
          "name": "stderr"
        },
        {
          "output_type": "stream",
          "text": [
            "#80 : [1 sec] train: 1.286402\n"
          ],
          "name": "stdout"
        },
        {
          "output_type": "stream",
          "text": [
            "\r                                                                               \r"
          ],
          "name": "stderr"
        },
        {
          "output_type": "stream",
          "text": [
            "#81 : [1 sec] train: 1.253091\n"
          ],
          "name": "stdout"
        },
        {
          "output_type": "stream",
          "text": [
            "\r                                                                               \r"
          ],
          "name": "stderr"
        },
        {
          "output_type": "stream",
          "text": [
            "#82 : [1 sec] train: 1.246552\n"
          ],
          "name": "stdout"
        },
        {
          "output_type": "stream",
          "text": [
            "\r                                                                               \r"
          ],
          "name": "stderr"
        },
        {
          "output_type": "stream",
          "text": [
            "#83 : [1 sec] train: 1.243445\n"
          ],
          "name": "stdout"
        },
        {
          "output_type": "stream",
          "text": [
            "\r                                                                               \r"
          ],
          "name": "stderr"
        },
        {
          "output_type": "stream",
          "text": [
            "#84 : [1 sec] train: 1.243801\n"
          ],
          "name": "stdout"
        },
        {
          "output_type": "stream",
          "text": [
            "\r                                                                               \r"
          ],
          "name": "stderr"
        },
        {
          "output_type": "stream",
          "text": [
            "#85 : [1 sec] train: 1.244216\n"
          ],
          "name": "stdout"
        },
        {
          "output_type": "stream",
          "text": [
            "\r                                                                               \r"
          ],
          "name": "stderr"
        },
        {
          "output_type": "stream",
          "text": [
            "#86 : [1 sec] train: 1.239484\n"
          ],
          "name": "stdout"
        },
        {
          "output_type": "stream",
          "text": [
            "\r                                                                               \r"
          ],
          "name": "stderr"
        },
        {
          "output_type": "stream",
          "text": [
            "#87 : [1 sec] train: 1.238685\n"
          ],
          "name": "stdout"
        },
        {
          "output_type": "stream",
          "text": [
            "\r                                                                               \r"
          ],
          "name": "stderr"
        },
        {
          "output_type": "stream",
          "text": [
            "#88 : [1 sec] train: 1.236747\n"
          ],
          "name": "stdout"
        },
        {
          "output_type": "stream",
          "text": [
            "\r                                                                               \r"
          ],
          "name": "stderr"
        },
        {
          "output_type": "stream",
          "text": [
            "#89 : [1 sec] train: 1.240268\n"
          ],
          "name": "stdout"
        },
        {
          "output_type": "stream",
          "text": [
            "\r                                                                               \r"
          ],
          "name": "stderr"
        },
        {
          "output_type": "stream",
          "text": [
            "#90 : [1 sec] train: 1.237948\n"
          ],
          "name": "stdout"
        },
        {
          "output_type": "stream",
          "text": [
            "\r                                                                               \r"
          ],
          "name": "stderr"
        },
        {
          "output_type": "stream",
          "text": [
            "#91 : [1 sec] train: 1.237003\n"
          ],
          "name": "stdout"
        },
        {
          "output_type": "stream",
          "text": [
            "\r                                                                               \r"
          ],
          "name": "stderr"
        },
        {
          "output_type": "stream",
          "text": [
            "#92 : [1 sec] train: 1.237841\n"
          ],
          "name": "stdout"
        },
        {
          "output_type": "stream",
          "text": [
            "\r                                                                               \r"
          ],
          "name": "stderr"
        },
        {
          "output_type": "stream",
          "text": [
            "#93 : [1 sec] train: 1.235904\n"
          ],
          "name": "stdout"
        },
        {
          "output_type": "stream",
          "text": [
            "\r                                                                               \r"
          ],
          "name": "stderr"
        },
        {
          "output_type": "stream",
          "text": [
            "#94 : [1 sec] train: 1.236283\n"
          ],
          "name": "stdout"
        },
        {
          "output_type": "stream",
          "text": [
            "\r                                                                               \r"
          ],
          "name": "stderr"
        },
        {
          "output_type": "stream",
          "text": [
            "#95 : [1 sec] train: 1.235824\n"
          ],
          "name": "stdout"
        },
        {
          "output_type": "stream",
          "text": [
            "\r                                                                               \r"
          ],
          "name": "stderr"
        },
        {
          "output_type": "stream",
          "text": [
            "#96 : [1 sec] train: 1.237230\n"
          ],
          "name": "stdout"
        },
        {
          "output_type": "stream",
          "text": [
            "\r                                                                               \r"
          ],
          "name": "stderr"
        },
        {
          "output_type": "stream",
          "text": [
            "#97 : [1 sec] train: 1.235673\n"
          ],
          "name": "stdout"
        },
        {
          "output_type": "stream",
          "text": [
            "\r                                                                               \r"
          ],
          "name": "stderr"
        },
        {
          "output_type": "stream",
          "text": [
            "#98 : [1 sec] train: 1.234011\n"
          ],
          "name": "stdout"
        },
        {
          "output_type": "stream",
          "text": [
            "\r                                                                               \r"
          ],
          "name": "stderr"
        },
        {
          "output_type": "stream",
          "text": [
            "#99 : [1 sec] train: 1.233396\n"
          ],
          "name": "stdout"
        },
        {
          "output_type": "stream",
          "text": [
            "\r                                                                               \r"
          ],
          "name": "stderr"
        },
        {
          "output_type": "stream",
          "text": [
            "#100 : [1 sec] train: 0.812889\n"
          ],
          "name": "stdout"
        }
      ]
    },
    {
      "cell_type": "code",
      "metadata": {
        "id": "zgoZSVNWLc85",
        "colab_type": "code",
        "colab": {
          "base_uri": "https://localhost:8080/",
          "height": 1000
        },
        "outputId": "849c6ac5-7a22-46be-eb04-81f587e284f3"
      },
      "source": [
        "print(\"Building visualization...\")\n",
        "plt.figure(figsize=(12, 11))\n",
        "\n",
        "grid = gridspec.GridSpec(GRID_HEIGHT, GRID_WIDTH)\n",
        "grid.update(wspace=0, hspace=0)\n",
        "\n",
        "for row_id in range(GRID_HEIGHT):\n",
        "    print(\"Progress: {:.2%}\".format(row_id / GRID_HEIGHT))\n",
        "\n",
        "    for col_id in range(GRID_WIDTH):\n",
        "        index = row_id * GRID_HEIGHT + col_id\n",
        "        clustered_samples = data[clusters == index]\n",
        "\n",
        "        if len(clustered_samples) > 0:\n",
        "            # We take the first sample, but it can be any\n",
        "            # sample from this cluster\n",
        "            sample = clustered_samples[0]\n",
        "\n",
        "        else:\n",
        "            # If we don't have samples in cluster then\n",
        "            # it means that there is a gap in space\n",
        "            sample = np.zeros(64)\n",
        "\n",
        "        plt.subplot(grid[index])\n",
        "        plt.imshow(sample.reshape((8, 8)), cmap='Greys')\n",
        "        plt.axis('off')\n",
        "print(\"Visualization has been built succesfully\")\n",
        "plt.show()"
      ],
      "execution_count": 7,
      "outputs": [
        {
          "output_type": "stream",
          "text": [
            "Building visualization...\n",
            "Progress: 0.00%\n",
            "Progress: 2.50%\n",
            "Progress: 5.00%\n",
            "Progress: 7.50%\n",
            "Progress: 10.00%\n",
            "Progress: 12.50%\n",
            "Progress: 15.00%\n",
            "Progress: 17.50%\n",
            "Progress: 20.00%\n",
            "Progress: 22.50%\n",
            "Progress: 25.00%\n",
            "Progress: 27.50%\n",
            "Progress: 30.00%\n",
            "Progress: 32.50%\n",
            "Progress: 35.00%\n",
            "Progress: 37.50%\n",
            "Progress: 40.00%\n",
            "Progress: 42.50%\n",
            "Progress: 45.00%\n",
            "Progress: 47.50%\n",
            "Progress: 50.00%\n",
            "Progress: 52.50%\n",
            "Progress: 55.00%\n",
            "Progress: 57.50%\n",
            "Progress: 60.00%\n",
            "Progress: 62.50%\n",
            "Progress: 65.00%\n",
            "Progress: 67.50%\n",
            "Progress: 70.00%\n",
            "Progress: 72.50%\n",
            "Progress: 75.00%\n",
            "Progress: 77.50%\n",
            "Progress: 80.00%\n",
            "Progress: 82.50%\n",
            "Progress: 85.00%\n",
            "Progress: 87.50%\n",
            "Progress: 90.00%\n",
            "Progress: 92.50%\n",
            "Progress: 95.00%\n",
            "Progress: 97.50%\n",
            "Visualization has been built succesfully\n"
          ],
          "name": "stdout"
        },
        {
          "output_type": "display_data",
          "data": {
            "image/png": "[encoded data removed]",
            "text/plain": [
              "<Figure size 864x792 with 1600 Axes>"
            ]
          },
          "metadata": {
            "tags": []
          }
        }
      ]
    },
    {
      "cell_type": "code",
      "metadata": {
        "id": "Zf9oLka4Lc88",
        "colab_type": "code",
        "colab": {}
      },
      "source": [
        ""
      ],
      "execution_count": 0,
      "outputs": []
    },
    {
      "cell_type": "code",
      "metadata": {
        "id": "Q2PKX8bKLc8-",
        "colab_type": "code",
        "colab": {}
      },
      "source": [
        ""
      ],
      "execution_count": 0,
      "outputs": []
    }
  ]
}